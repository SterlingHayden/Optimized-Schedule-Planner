{
  "nbformat": 4,
  "nbformat_minor": 0,
  "metadata": {
    "colab": {
      "provenance": [],
      "include_colab_link": true
    },
    "kernelspec": {
      "name": "python3",
      "display_name": "Python 3"
    },
    "language_info": {
      "name": "python"
    }
  },
  "cells": [
    {
      "cell_type": "markdown",
      "metadata": {
        "id": "view-in-github",
        "colab_type": "text"
      },
      "source": [
        "<a href=\"https://colab.research.google.com/github/SterlingHayden/Optimized-Schedule-Planner/blob/main/Project_Brecheisen_Jacob_Hayden_Sterling.ipynb\" target=\"_parent\"><img src=\"https://colab.research.google.com/assets/colab-badge.svg\" alt=\"Open In Colab\"/></a>"
      ]
    },
    {
      "cell_type": "code",
      "source": [
        "# !pip install -q pyomo\n",
        "# !apt-get install -y -qq coinor-cbc\n",
        "\n",
        "# import itertools\n",
        "import numpy as np\n",
        "# import pyomo.environ as pyo"
      ],
      "metadata": {
        "id": "ye8-PLOqsMqJ"
      },
      "execution_count": null,
      "outputs": []
    },
    {
      "cell_type": "markdown",
      "source": [
        "# Parameters"
      ],
      "metadata": {
        "id": "wQfLitMFLSpo"
      }
    },
    {
      "cell_type": "code",
      "execution_count": null,
      "metadata": {
        "id": "gDIqsoCrbz6I",
        "colab": {
          "base_uri": "https://localhost:8080/"
        },
        "outputId": "aa2b84cd-51d2-410a-85cf-3615b6ae125c"
      },
      "outputs": [
        {
          "output_type": "stream",
          "name": "stdout",
          "text": [
            "['ENGL 1013' 'ENGL 1033' 'MATH 2554' 'PHIL 3103' 'ECON 2143' 'DASC 1001'\n",
            " 'DASC 1104' 'DASC 1204' 'DASC 2594' 'DASC 1222' 'DASC 2103' 'DASC 2113'\n",
            " 'DASC 2203' 'DASC 2213' 'DASC 3103' 'DASC 3203' 'DASC 3213' 'DASC 4892'\n",
            " 'DASC 4113' 'DASC 4123' 'DASC 4993' 'MATH 2564' 'SEVI 2053' 'STAT 3113'\n",
            " 'STAT 4373' 'STAT 4013' 'STAT 4333' 'GEOS 1113' 'ENTO 1023' 'MLIT 1003'\n",
            " 'HIST 2003' 'COMM 1023' 'HIST 2013' 'STAT 3013' 'STAT 3003' 'STAT 4023'\n",
            " 'STAT 5043' 'STAT 4033']\n",
            "[3 3 4 3 3 1 4 4 4 2 3 3 3 3 3 3 3 2 3 3 3 4 3 3 3 3 3 3 3 3 3 3 3 3 3 3 3\n",
            " 3]\n",
            "[12  0 12]\n",
            "[[1 1 1]\n",
            " [1 0 1]\n",
            " [1 1 1]\n",
            " [1 1 1]\n",
            " [1 1 1]\n",
            " [0 0 1]\n",
            " [0 0 1]\n",
            " [1 0 0]\n",
            " [0 0 1]\n",
            " [1 0 0]\n",
            " [1 0 0]\n",
            " [0 0 1]\n",
            " [1 0 0]\n",
            " [0 0 1]\n",
            " [0 0 1]\n",
            " [1 0 0]\n",
            " [1 0 0]\n",
            " [0 0 1]\n",
            " [0 0 1]\n",
            " [0 0 1]\n",
            " [1 0 0]\n",
            " [1 1 1]\n",
            " [1 1 1]\n",
            " [1 0 0]\n",
            " [1 0 0]\n",
            " [0 0 1]\n",
            " [1 0 0]\n",
            " [1 1 1]\n",
            " [1 0 0]\n",
            " [1 1 1]\n",
            " [1 1 1]\n",
            " [1 0 1]\n",
            " [1 1 1]\n",
            " [1 1 1]\n",
            " [1 0 1]\n",
            " [1 0 0]\n",
            " [1 1 1]\n",
            " [0 0 1]]\n",
            "[[ 1  0]\n",
            " [ 7  6]\n",
            " [ 8 21]\n",
            " [ 8  6]\n",
            " [ 9  6]\n",
            " [10  7]\n",
            " [11 21]\n",
            " [12  7]\n",
            " [13  6]\n",
            " [13  9]\n",
            " [14  8]\n",
            " [14 12]\n",
            " [15 11]\n",
            " [15  8]\n",
            " [16  6]\n",
            " [16 33]\n",
            " [16 34]\n",
            " [17 11]\n",
            " [17 15]\n",
            " [18 10]\n",
            " [18 15]\n",
            " [19  9]\n",
            " [20 17]\n",
            " [21  2]\n",
            " [22  5]\n",
            " [22  6]\n",
            " [23 33]\n",
            " [25 16]\n",
            " [33 21]\n",
            " [34  2]\n",
            " [35 16]\n",
            " [36 34]\n",
            " [37 34]]\n",
            "[[ 5  2]\n",
            " [17 19]\n",
            " [ 6  5]\n",
            " [ 5  6]\n",
            " [13 11]\n",
            " [11 13]\n",
            " [10 12]\n",
            " [12 10]\n",
            " [15 16]\n",
            " [16 15]\n",
            " [18 19]\n",
            " [19 18]]\n"
          ]
        }
      ],
      "source": [
        "# DASC Data Science Statistics requirements\n",
        "courses = np.array([\n",
        "    \"ENGL 1013\",\n",
        "    \"ENGL 1033\",\n",
        "    \"MATH 2554\",\n",
        "    \"PHIL 3103\",\n",
        "    \"ECON 2143\",\n",
        "    \"DASC 1001\",\n",
        "    \"DASC 1104\",\n",
        "    \"DASC 1204\",\n",
        "    \"DASC 2594\",\n",
        "    \"DASC 1222\",\n",
        "    \"DASC 2103\",\n",
        "    \"DASC 2113\",\n",
        "    \"DASC 2203\",\n",
        "    \"DASC 2213\",\n",
        "    \"DASC 3103\",\n",
        "    \"DASC 3203\",\n",
        "    \"DASC 3213\",\n",
        "    \"DASC 4892\",\n",
        "    \"DASC 4113\",\n",
        "    \"DASC 4123\",\n",
        "    \"DASC 4993\",\n",
        "    \"MATH 2564\",\n",
        "    \"SEVI 2053\",\n",
        "    \"STAT 3113\",\n",
        "    \"STAT 4373\",\n",
        "    \"STAT 4013\",\n",
        "    \"STAT 4333\",\n",
        "    \"GEOS 1113\", # Science state minimum electives (two courses with labs)\n",
        "    \"ENTO 1023\", # Science state minimum electives (two courses with labs)\n",
        "    \"MLIT 1003\", # Fine Arts state minimum core\n",
        "    \"HIST 2003\", # U.S. History and Government state minimum core\n",
        "    \"COMM 1023\", # Social Science state minimum core electives\n",
        "    \"HIST 2013\", # Social Science state minimum core electives\n",
        "    \"STAT 3013\", # Instead of INEG 2314 (Choose from one of these two-course sequences)\n",
        "    \"STAT 3003\", # Instead of INEG 2323 (Choose from one of these two-course sequences)\n",
        "    \"STAT 4023\", # Elective Data Science Statistics Concentration (Select 9 hours)\n",
        "    \"STAT 5043\", # Elective Data Science Statistics Concentration (Select 9 hours)\n",
        "    \"STAT 4033\" # Elective Data Science Statistics Concentration (Select 9 hours)\n",
        "])\n",
        "\n",
        "# Vector containing course difficulty\n",
        "difficulty = np.array([\n",
        "    0.379216, # ENGL 1013\n",
        "    0.363097, # ENGL 1033\n",
        "    0.418993, # MATH 2554\n",
        "    0.536889, # PHIL 3103\n",
        "    0.530844, # ECON 2143\n",
        "    0.310055, # DASC 1001\n",
        "    0.532869, # DASC 1104\n",
        "    0.507473, # DASC 1204\n",
        "    0.536302, # DASC 2594\n",
        "    0.420941, # DASC 1222\n",
        "    0.474771, # DASC 2103\n",
        "    0.471402, # DASC 2113\n",
        "    0.490532, # DASC 2203\n",
        "    0.469375, # DASC 2213\n",
        "    0.469980, # DASC 3103\n",
        "    0.495592, # DASC 3203\n",
        "    0.441984, # DASC 3213\n",
        "    0.495429, # DASC 4892\n",
        "    0.557682, # DASC 4113\n",
        "    0.571003, # DASC 4123\n",
        "    0.561626, # DASC 4993\n",
        "    0.495060, # MATH 2564\n",
        "    0.419039, # SEVI 2053\n",
        "    0.512889, # STAT 3113\n",
        "    0.585332, # STAT 4373\n",
        "    0.535201, # STAT 4013\n",
        "    0.570378, # STAT 4333\n",
        "    0.375381, # GEOS 1113\n",
        "    0.422439, # ENTO 1023\n",
        "    0.462482, # MLIT 1003\n",
        "    0.487732, # HIST 2003\n",
        "    0.482239, # COMM 1023\n",
        "    0.483319, # HIST 2013\n",
        "    0.475559, # STAT 3013\n",
        "    0.473715, # STAT 3003\n",
        "    0.557650, # STAT 4023\n",
        "    0.557326, # STAT 5043\n",
        "    0.517241 # STAT 4033\n",
        "])\n",
        "\n",
        "# Vector containing credit hours\n",
        "hours = np.array([\n",
        "    3, # ENGL 1013\n",
        "    3, # ENGL 1033\n",
        "    4, # MATH 2554\n",
        "    3, # PHIL 3103\n",
        "    3, # ECON 2143\n",
        "    1, # DASC 1001\n",
        "    4, # DASC 1104\n",
        "    4, # DASC 1204\n",
        "    4, # DASC 2594\n",
        "    2, # DASC 1222\n",
        "    3, # DASC 2103\n",
        "    3, # DASC 2113\n",
        "    3, # DASC 2203\n",
        "    3, # DASC 2213\n",
        "    3, # DASC 3103\n",
        "    3, # DASC 3203\n",
        "    3, # DASC 3213\n",
        "    2, # DASC 4892\n",
        "    3, # DASC 4113\n",
        "    3, # DASC 4123\n",
        "    3, # DASC 4993\n",
        "    4, # MATH 2564\n",
        "    3, # SEVI 2053\n",
        "    3, # STAT 3113\n",
        "    3, # STAT 4373\n",
        "    3, # STAT 4013\n",
        "    3, # STAT 4333\n",
        "    3, # GEOS 1113\n",
        "    3, # ENTO 1023\n",
        "    3, # MLIT 1003\n",
        "    3, # HIST 2003\n",
        "    3, # COMM 1023\n",
        "    3, # HIST 2013\n",
        "    3, # STAT 3013\n",
        "    3, # STAT 3003\n",
        "    3, # STAT 4023\n",
        "    3, # STAT 5043\n",
        "    3 # STAT 4033\n",
        "])\n",
        "\n",
        "# Matrix containing when courses are offered\n",
        "offered = np.array([\n",
        "    # [Spring, Summer, Fall]\n",
        "    [1, 1, 1], # ENGL 1013\n",
        "    [1, 0, 1], # ENGL 1033\n",
        "    [1, 1, 1], # MATH 2554\n",
        "    [1, 1, 1], # PHIL 3103\n",
        "    [1, 1, 1], # ECON 2143\n",
        "    [0, 0, 1], # DASC 1001\n",
        "    [0, 0, 1], # DASC 1104\n",
        "    [1, 0, 0], # DASC 1204\n",
        "    [0, 0, 1], # DASC 2594\n",
        "    [1, 0, 0], # DASC 1222\n",
        "    [1, 0, 0], # DASC 2103\n",
        "    [0, 0, 1], # DASC 2113\n",
        "    [1, 0, 0], # DASC 2203\n",
        "    [0, 0, 1], # DASC 2213\n",
        "    [0, 0, 1], # DASC 3103\n",
        "    [1, 0, 0], # DASC 3203\n",
        "    [1, 0, 0], # DASC 3213\n",
        "    [0, 0, 1], # DASC 4892\n",
        "    [0, 0, 1], # DASC 4113\n",
        "    [0, 0, 1], # DASC 4123\n",
        "    [1, 0, 0], # DASC 4993\n",
        "    [1, 1, 1], # MATH 2564\n",
        "    [1, 1, 1], # SEVI 2053\n",
        "    [1, 0, 0], # STAT 3113\n",
        "    [1, 0, 0], # STAT 4373\n",
        "    [0, 0, 1], # STAT 4013\n",
        "    [1, 0, 0], # STAT 4333\n",
        "    [1, 1, 1], # GEOS 1113\n",
        "    [1, 0, 0], # ENTO 1023\n",
        "    [1, 1, 1], # MLIT 1003\n",
        "    [1, 1, 1], # HIST 2003\n",
        "    [1, 0, 1], # COMM 1023\n",
        "    [1, 1, 1], # HIST 2013\n",
        "    [1, 1, 1], # STAT 3013\n",
        "    [1, 0, 1], # STAT 3003\n",
        "    [1, 0, 0], # STAT 4023\n",
        "    [1, 1, 1], # STAT 5043\n",
        "    [0, 0, 1] # STAT 4033\n",
        "])\n",
        "\n",
        "# Matrix containing prerequisites\n",
        "prereqs = np.array([\n",
        "    # [Course, Prerequisite]\n",
        "    [\"ENGL 1033\", \"ENGL 1013\"],\n",
        "    [\"DASC 1204\", \"DASC 1104\"],\n",
        "    [\"DASC 2594\", \"MATH 2564\"],\n",
        "    [\"DASC 2594\", \"DASC 1104\"],\n",
        "    [\"DASC 1222\", \"DASC 1104\"],\n",
        "    [\"DASC 2103\", \"DASC 1204\"],\n",
        "    [\"DASC 2113\", \"MATH 2564\"],\n",
        "    [\"DASC 2203\", \"DASC 1204\"],\n",
        "    [\"DASC 2213\", \"DASC 1104\"],\n",
        "    [\"DASC 2213\", \"DASC 1222\"],\n",
        "    [\"DASC 3103\", \"DASC 2594\"],\n",
        "    [\"DASC 3103\", \"DASC 2203\"],\n",
        "    [\"DASC 3203\", \"DASC 2113\"],\n",
        "    [\"DASC 3203\", \"DASC 2594\"],\n",
        "    [\"DASC 3213\", \"DASC 1104\"],\n",
        "    [\"DASC 3213\", \"STAT 3013\"],\n",
        "    [\"DASC 3213\", \"STAT 3003\"],\n",
        "    [\"DASC 4892\", \"DASC 2113\"],\n",
        "    [\"DASC 4892\", \"DASC 3203\"],\n",
        "    [\"DASC 4113\", \"DASC 2103\"],\n",
        "    [\"DASC 4113\", \"DASC 3203\"],\n",
        "    [\"DASC 4123\", \"DASC 1222\"],\n",
        "    [\"DASC 4993\", \"DASC 4892\"],\n",
        "    [\"MATH 2564\", \"MATH 2554\"],\n",
        "    [\"SEVI 2053\", \"DASC 1001\"],\n",
        "    [\"SEVI 2053\", \"DASC 1104\"],\n",
        "    [\"STAT 3113\", \"STAT 3013\"],\n",
        "    [\"STAT 4013\", \"DASC 3213\"],\n",
        "    [\"STAT 3013\", \"MATH 2564\"],\n",
        "    [\"STAT 3003\", \"MATH 2554\"],\n",
        "    [\"STAT 4023\", \"DASC 3213\"],\n",
        "    [\"STAT 5043\", \"STAT 3003\"],\n",
        "    [\"STAT 4033\", \"STAT 3003\"]\n",
        "])\n",
        "\n",
        "# Matrix containing corequisites\n",
        "coreqs = np.array([\n",
        "    # [Course, Corequisite]\n",
        "    [\"DASC 1001\", \"MATH 2554\"],\n",
        "    [\"DASC 4892\", \"DASC 4123\"],\n",
        "    [\"DASC 1104\", \"DASC 1001\"],\n",
        "    [\"DASC 1001\", \"DASC 1104\"],\n",
        "    [\"DASC 2213\", \"DASC 2113\"],\n",
        "    [\"DASC 2113\", \"DASC 2213\"],\n",
        "    [\"DASC 2103\", \"DASC 2203\"],\n",
        "    [\"DASC 2203\", \"DASC 2103\"],\n",
        "    [\"DASC 3203\", \"DASC 3213\"],\n",
        "    [\"DASC 3213\", \"DASC 3203\"],\n",
        "    [\"DASC 4113\", \"DASC 4123\"],\n",
        "    [\"DASC 4123\", \"DASC 4113\"]\n",
        "])\n",
        "\n",
        "# Vector containing semesters student won't be in school\n",
        "blacklist = np.array([\n",
        "    # [Year #, Semester #]\n",
        "    [0, 0],\n",
        "    [4, 2]\n",
        "])\n",
        "\n",
        "# Vector containing credit hour limits\n",
        "hour_limits = np.array([\n",
        "    12, # Spring\n",
        "    0, # Summer\n",
        "    12 # Fall\n",
        "])\n",
        "\n",
        "# Transform prereqs and coreqs to use indices instead\n",
        "prereqs = np.vectorize(lambda x: np.where(courses == x)[0])(prereqs)\n",
        "coreqs = np.vectorize(lambda x: np.where(courses == x)[0])(coreqs)\n",
        "\n",
        "# Set maximum number of years\n",
        "max_years = 5\n",
        "\n",
        "print(courses)\n",
        "print(hours)\n",
        "print(hour_limits)\n",
        "print(offered)\n",
        "print(prereqs)\n",
        "print(coreqs)"
      ]
    },
    {
      "cell_type": "code",
      "source": [
        "model = pyo.ConcreteModel()"
      ],
      "metadata": {
        "id": "_Md1Zf_ouDc4"
      },
      "execution_count": null,
      "outputs": []
    },
    {
      "cell_type": "code",
      "source": [
        "course_idx = range(len(courses)) # Index for courses\n",
        "sem_idx = range(offered.shape[1]) # Index for semesters\n",
        "year_idx = range(max_years) # Index for years\n",
        "prereq_idx = range(prereqs.shape[0]) # Index for prereqs\n",
        "coreq_idx = range(coreqs.shape[0]) # Index for coreqs\n",
        "\n",
        "when_offered = {(i, j): offered[i][j] for i, j in itertools.product(course_idx, sem_idx)} # Dictionary containing when courses are offered\n",
        "difficulty = {i: difficulty[i] for i in course_idx} # Dictionary containing course difficulty\n",
        "credit_hours = {i: hours[i] for i in course_idx} # Dictionary containing credit hours\n",
        "hour_limits = {i: hour_limits[i] for i in sem_idx} # Dictionary containing credit hour limits\n",
        "prereqs = {(i, j): prereqs[i][j] for i, j in itertools.product(prereq_idx, range(2))} # Dictionary containing prerequisites\n",
        "coreqs = {(i, j): coreqs[i][j] for i, j in itertools.product(coreq_idx, range(2))} # Dictionary containing corequisites\n",
        "\n",
        "print(course_idx)\n",
        "print(sem_idx)\n",
        "print(year_idx)\n",
        "print(prereq_idx)\n",
        "print(coreq_idx)\n",
        "\n",
        "print(when_offered)\n",
        "print(difficulty)\n",
        "print(credit_hours)\n",
        "print(hour_limits)\n",
        "print(prereqs)\n",
        "print(coreqs)"
      ],
      "metadata": {
        "colab": {
          "base_uri": "https://localhost:8080/"
        },
        "id": "sJkJy9twuqlG",
        "outputId": "5ad4a1e5-47aa-4928-9c97-9c750da9974f"
      },
      "execution_count": null,
      "outputs": [
        {
          "output_type": "stream",
          "name": "stdout",
          "text": [
            "range(0, 38)\n",
            "range(0, 3)\n",
            "range(0, 5)\n",
            "range(0, 33)\n",
            "range(0, 12)\n",
            "{(0, 0): 1, (0, 1): 1, (0, 2): 1, (1, 0): 1, (1, 1): 0, (1, 2): 1, (2, 0): 1, (2, 1): 1, (2, 2): 1, (3, 0): 1, (3, 1): 1, (3, 2): 1, (4, 0): 1, (4, 1): 1, (4, 2): 1, (5, 0): 0, (5, 1): 0, (5, 2): 1, (6, 0): 0, (6, 1): 0, (6, 2): 1, (7, 0): 1, (7, 1): 0, (7, 2): 0, (8, 0): 0, (8, 1): 0, (8, 2): 1, (9, 0): 1, (9, 1): 0, (9, 2): 0, (10, 0): 1, (10, 1): 0, (10, 2): 0, (11, 0): 0, (11, 1): 0, (11, 2): 1, (12, 0): 1, (12, 1): 0, (12, 2): 0, (13, 0): 0, (13, 1): 0, (13, 2): 1, (14, 0): 0, (14, 1): 0, (14, 2): 1, (15, 0): 1, (15, 1): 0, (15, 2): 0, (16, 0): 1, (16, 1): 0, (16, 2): 0, (17, 0): 0, (17, 1): 0, (17, 2): 1, (18, 0): 0, (18, 1): 0, (18, 2): 1, (19, 0): 0, (19, 1): 0, (19, 2): 1, (20, 0): 1, (20, 1): 0, (20, 2): 0, (21, 0): 1, (21, 1): 1, (21, 2): 1, (22, 0): 1, (22, 1): 1, (22, 2): 1, (23, 0): 1, (23, 1): 0, (23, 2): 0, (24, 0): 1, (24, 1): 0, (24, 2): 0, (25, 0): 0, (25, 1): 0, (25, 2): 1, (26, 0): 1, (26, 1): 0, (26, 2): 0, (27, 0): 1, (27, 1): 1, (27, 2): 1, (28, 0): 1, (28, 1): 0, (28, 2): 0, (29, 0): 1, (29, 1): 1, (29, 2): 1, (30, 0): 1, (30, 1): 1, (30, 2): 1, (31, 0): 1, (31, 1): 0, (31, 2): 1, (32, 0): 1, (32, 1): 1, (32, 2): 1, (33, 0): 1, (33, 1): 1, (33, 2): 1, (34, 0): 1, (34, 1): 0, (34, 2): 1, (35, 0): 1, (35, 1): 0, (35, 2): 0, (36, 0): 1, (36, 1): 1, (36, 2): 1, (37, 0): 0, (37, 1): 0, (37, 2): 1}\n",
            "{0: 0.379216, 1: 0.363097, 2: 0.418993, 3: 0.536889, 4: 0.530844, 5: 0.310055, 6: 0.532869, 7: 0.507473, 8: 0.536302, 9: 0.420941, 10: 0.474771, 11: 0.471402, 12: 0.490532, 13: 0.469375, 14: 0.46998, 15: 0.495592, 16: 0.441984, 17: 0.495429, 18: 0.557682, 19: 0.571003, 20: 0.561626, 21: 0.49506, 22: 0.419039, 23: 0.512889, 24: 0.585332, 25: 0.535201, 26: 0.570378, 27: 0.375381, 28: 0.422439, 29: 0.462482, 30: 0.487732, 31: 0.482239, 32: 0.483319, 33: 0.475559, 34: 0.473715, 35: 0.55765, 36: 0.557326, 37: 0.517241}\n",
            "{0: 3, 1: 3, 2: 4, 3: 3, 4: 3, 5: 1, 6: 4, 7: 4, 8: 4, 9: 2, 10: 3, 11: 3, 12: 3, 13: 3, 14: 3, 15: 3, 16: 3, 17: 2, 18: 3, 19: 3, 20: 3, 21: 4, 22: 3, 23: 3, 24: 3, 25: 3, 26: 3, 27: 3, 28: 3, 29: 3, 30: 3, 31: 3, 32: 3, 33: 3, 34: 3, 35: 3, 36: 3, 37: 3}\n",
            "{0: 12, 1: 0, 2: 12}\n",
            "{(0, 0): 1, (0, 1): 0, (1, 0): 7, (1, 1): 6, (2, 0): 8, (2, 1): 21, (3, 0): 8, (3, 1): 6, (4, 0): 9, (4, 1): 6, (5, 0): 10, (5, 1): 7, (6, 0): 11, (6, 1): 21, (7, 0): 12, (7, 1): 7, (8, 0): 13, (8, 1): 6, (9, 0): 13, (9, 1): 9, (10, 0): 14, (10, 1): 8, (11, 0): 14, (11, 1): 12, (12, 0): 15, (12, 1): 11, (13, 0): 15, (13, 1): 8, (14, 0): 16, (14, 1): 6, (15, 0): 16, (15, 1): 33, (16, 0): 16, (16, 1): 34, (17, 0): 17, (17, 1): 11, (18, 0): 17, (18, 1): 15, (19, 0): 18, (19, 1): 10, (20, 0): 18, (20, 1): 15, (21, 0): 19, (21, 1): 9, (22, 0): 20, (22, 1): 17, (23, 0): 21, (23, 1): 2, (24, 0): 22, (24, 1): 5, (25, 0): 22, (25, 1): 6, (26, 0): 23, (26, 1): 33, (27, 0): 25, (27, 1): 16, (28, 0): 33, (28, 1): 21, (29, 0): 34, (29, 1): 2, (30, 0): 35, (30, 1): 16, (31, 0): 36, (31, 1): 34, (32, 0): 37, (32, 1): 34}\n",
            "{(0, 0): 5, (0, 1): 2, (1, 0): 17, (1, 1): 19, (2, 0): 6, (2, 1): 5, (3, 0): 5, (3, 1): 6, (4, 0): 13, (4, 1): 11, (5, 0): 11, (5, 1): 13, (6, 0): 10, (6, 1): 12, (7, 0): 12, (7, 1): 10, (8, 0): 15, (8, 1): 16, (9, 0): 16, (9, 1): 15, (10, 0): 18, (10, 1): 19, (11, 0): 19, (11, 1): 18}\n"
          ]
        }
      ]
    },
    {
      "cell_type": "markdown",
      "source": [
        "# Model"
      ],
      "metadata": {
        "id": "S3XMkqj0LWk8"
      }
    },
    {
      "cell_type": "code",
      "source": [
        "model.course_idx = pyo.Set(initialize=course_idx) # Index for courses\n",
        "model.sem_idx = pyo.Set(initialize=sem_idx) # Index for semesters\n",
        "model.year_idx = pyo.Set(initialize=year_idx) # Index for years\n",
        "model.prereq_idx = pyo.Set(initialize=prereq_idx) # Index for prereqs\n",
        "model.coreq_idx = pyo.Set(initialize=coreq_idx) # Index for coreqs"
      ],
      "metadata": {
        "id": "sbFPetvwu8ux"
      },
      "execution_count": null,
      "outputs": []
    },
    {
      "cell_type": "code",
      "source": [
        "model.when_offered = pyo.Param(model.course_idx, model.sem_idx, initialize=when_offered) # Parameter containing when courses are offered\n",
        "model.difficulty = pyo.Param(model.course_idx, initialize=difficulty) # Parameter containing course difficulty\n",
        "model.credit_hours = pyo.Param(model.course_idx, initialize=credit_hours) # Parameter containing credit hours\n",
        "model.hour_limits = pyo.Param(model.sem_idx, initialize=hour_limits) # Parameter containing credit hour limits\n",
        "model.prereqs = pyo.Param(model.prereq_idx, range(2), initialize=prereqs) # Parameter containing prerequisites\n",
        "model.coreqs = pyo.Param(model.coreq_idx, range(2), initialize=coreqs) # Parameter containing corequisites"
      ],
      "metadata": {
        "id": "-eM0CuOBwdn1"
      },
      "execution_count": null,
      "outputs": []
    },
    {
      "cell_type": "code",
      "source": [
        "model.semesters = pyo.Var(model.course_idx, model.year_idx, model.sem_idx, domain=pyo.Binary) # Decision variable for period/semester taken\n",
        "model.penalty = pyo.Var(model.year_idx, model.sem_idx, domain=pyo.NonNegativeReals) # Decision variable implementing penalty for course hour limits"
      ],
      "metadata": {
        "id": "zEO0irjqwjad"
      },
      "execution_count": null,
      "outputs": []
    },
    {
      "cell_type": "markdown",
      "source": [
        "Course value mathematical formulation:\n",
        "\n",
        "$$f(\\bf{X}, i) = \\sum_{j=1}^b \\sum_{k=1}^c \\left[\\bf{X}_{ijk}\\left(j + \\frac{1}{c - k + 2}\\right)\\right]$$\n",
        "\n",
        "Objective function mathematical formulation:\n",
        "\n",
        "$$\\min_{\\bf{X}, \\bf{P}} \\sum_{j=1}^b \\sum_{k=1}^c \\bf{P}_{jk}$$"
      ],
      "metadata": {
        "id": "Ni0kOvQ4Gsk5"
      }
    },
    {
      "cell_type": "code",
      "source": [
        "# Calculate value used to compare courses\n",
        "course_val = lambda model, course_idx: sum(model.semesters[(course_idx, i, j)] * (i + 1 / (len(model.sem_idx) - j + 1) + 1) for i, j in itertools.product(model.year_idx, model.sem_idx))\n",
        "\n",
        "# Minimize time over semester credit hour limits\n",
        "obj_rule = lambda model: sum(model.penalty[(i, j)] for i, j in itertools.product(model.year_idx, model.sem_idx))\n",
        "model.obj = pyo.Objective(rule=obj_rule, sense=pyo.minimize)"
      ],
      "metadata": {
        "id": "5KT8Dklcwp0b"
      },
      "execution_count": null,
      "outputs": []
    },
    {
      "cell_type": "markdown",
      "source": [
        "Offered rule constraint mathematical formulation:\n",
        "\n",
        "$$\\bf{X}_{ijk} \\le \\bf{O}_{ik}, \\forall i = 1, 2, ..., a, \\forall j = 1, 2, ..., b, \\forall k = 1, 2, ..., c$$"
      ],
      "metadata": {
        "id": "tD9i3hPtK--S"
      }
    },
    {
      "cell_type": "code",
      "source": [
        "# Course must be offered in this semester\n",
        "offered_rule = lambda model, course_idx, year_idx, sem_idx: model.semesters[(course_idx, year_idx, sem_idx)] <= model.when_offered[(course_idx, sem_idx)]\n",
        "model.offered_rule = pyo.Constraint(model.course_idx, model.year_idx, model.sem_idx, rule=offered_rule)"
      ],
      "metadata": {
        "id": "Nr9zq1MEy9kV"
      },
      "execution_count": null,
      "outputs": []
    },
    {
      "cell_type": "markdown",
      "source": [
        "Semester rule constraint mathematical formulation:\n",
        "\n",
        "$$\\sum_{j=1}^b \\sum_{k=1}^c \\bf{X}_{ijk} = 1, \\forall i = 1, 2, ..., a$$"
      ],
      "metadata": {
        "id": "2S1NPlQ8MMu7"
      }
    },
    {
      "cell_type": "code",
      "source": [
        "# Must take course during one semester\n",
        "semester_rule = lambda model, course_idx: sum(model.semesters[(course_idx, i, j)] for i, j in itertools.product(model.year_idx, model.sem_idx)) == 1\n",
        "model.semester_rule = pyo.Constraint(model.course_idx, rule=semester_rule)"
      ],
      "metadata": {
        "id": "gIuk4yc00UqX"
      },
      "execution_count": null,
      "outputs": []
    },
    {
      "cell_type": "markdown",
      "source": [
        "Hours rule constraint mathematical formulation:\n",
        "\n",
        "$$\\bf{P}_{jk} \\ge \\sum_{i=1}^a \\bf{h}_i\\bf{X}_{ijk} - \\bf{l}_k, \\forall j = 1, 2, ..., b, \\forall k = 1, 2, ..., c$$"
      ],
      "metadata": {
        "id": "sKLpV1pjMmAa"
      }
    },
    {
      "cell_type": "code",
      "source": [
        "# Try not to exceed credit hour limits\n",
        "hours_rule = lambda model, year_idx, sem_idx: model.penalty[(year_idx, sem_idx)] >= sum(model.credit_hours[i] * model.semesters[(i, year_idx, sem_idx)] for i in model.course_idx) - model.hour_limits[sem_idx]\n",
        "model.hours_rule = pyo.Constraint(model.year_idx, model.sem_idx, rule=hours_rule)"
      ],
      "metadata": {
        "id": "XBwOJqnWOozF"
      },
      "execution_count": null,
      "outputs": []
    },
    {
      "cell_type": "markdown",
      "source": [
        "Blacklist rule constraint mathematical formulation:\n",
        "\n",
        "$$\\bf{X}_{ijk} = 0, \\forall i = 1, 2, ..., a, \\forall (j, k) \\in \\bf{B}$$"
      ],
      "metadata": {
        "id": "VX4mSx-vOJI0"
      }
    },
    {
      "cell_type": "code",
      "source": [
        "# Cannot take classes during blacklisted semester\n",
        "model.blacklist_rule = pyo.ConstraintList()\n",
        "\n",
        "# Loop over each course and blacklisted semester\n",
        "for i, row in itertools.product(model.course_idx, blacklist):\n",
        "  # Add a constraint that the blacklisted semester must be 0\n",
        "  model.blacklist_rule.add(expr=(model.semesters[(i, row[0], row[1])] == 0))"
      ],
      "metadata": {
        "id": "j7iRqtVtUrFi"
      },
      "execution_count": null,
      "outputs": []
    },
    {
      "cell_type": "markdown",
      "source": [
        "Difficulty rule constraint mathematical formulation:\n",
        "\n",
        "$$\\sum_{i=1}^a \\bf{d}_i\\bf{X}_{ij_1k} \\le \\sum_{i=1}^a \\bf{d}_i\\bf{X}_{ij_2k}, \\forall (j_1, k) \\notin \\bf{B}, (j_2, k) \\notin \\bf{B}, j_1 < j_2$$"
      ],
      "metadata": {
        "id": "eAi9RYNVPiLA"
      }
    },
    {
      "cell_type": "code",
      "source": [
        "# Difficulty must increase on a yearly basis\n",
        "model.difficulty_rule = pyo.ConstraintList()\n",
        "\n",
        "# Loop over every semester in every year combo to make sure difficulty increases across years for each semester\n",
        "for (y1, y2), j in itertools.product(itertools.combinations(model.year_idx, 2), model.sem_idx):\n",
        "  # Check to make sure neither semester is blacklisted\n",
        "  if not [y1, j] in blacklist.tolist() and not [y2, j] in blacklist.tolist():\n",
        "    # Add a constraint that the total difficulty for this semester must be greater next year\n",
        "    model.difficulty_rule.add(expr=(\n",
        "        sum(model.difficulty[i] * model.semesters[(i, y1, j)] for i in model.course_idx)\n",
        "        <=\n",
        "        sum(model.difficulty[i] * model.semesters[(i, y2, j)] for i in model.course_idx)\n",
        "    ))"
      ],
      "metadata": {
        "id": "fkH2gzphYO5G"
      },
      "execution_count": null,
      "outputs": []
    },
    {
      "cell_type": "markdown",
      "source": [
        "Prerequisite rule constraint mathematical formulation:\n",
        "\n",
        "$$f(\\bf{R}_{m0}) \\ge f(\\bf{R}_{m1}) + \\epsilon, \\forall m = 1, 2, ..., d$$\n",
        "\n",
        "Corequisite rule constraint mathematical formulation:\n",
        "\n",
        "$$f(\\bf{C}_{n0}) \\ge f(\\bf{C}_{n1}), \\forall n = 1, 2, ..., e$$"
      ],
      "metadata": {
        "id": "-_FmnlDMRJHn"
      }
    },
    {
      "cell_type": "code",
      "source": [
        "# Create sufficiently small error term because strict inequalities are not allowed\n",
        "epsilon = .001\n",
        "\n",
        "# Course must come after its prerequisites and with/after its corequisites\n",
        "prereq_rule = lambda model, prereq_idx: course_val(model, model.prereqs[(prereq_idx, 0)]) >= course_val(model, model.prereqs[(prereq_idx, 1)]) + epsilon\n",
        "coreq_rule = lambda model, coreq_idx: course_val(model, model.coreqs[(coreq_idx, 0)]) >= course_val(model, model.coreqs[(coreq_idx, 1)])\n",
        "\n",
        "model.prereq_rule = pyo.Constraint(model.prereq_idx, rule=prereq_rule)\n",
        "model.coreq_rule = pyo.Constraint(model.coreq_idx, rule=coreq_rule)"
      ],
      "metadata": {
        "id": "XKwM0bpmlsIt"
      },
      "execution_count": null,
      "outputs": []
    },
    {
      "cell_type": "markdown",
      "source": [
        "# Solution"
      ],
      "metadata": {
        "id": "nMHO1fsrLZVq"
      }
    },
    {
      "cell_type": "code",
      "source": [
        "opt = pyo.SolverFactory(\"cbc\")\n",
        "opt.solve(model)"
      ],
      "metadata": {
        "colab": {
          "base_uri": "https://localhost:8080/"
        },
        "id": "mk2hyJUTIpq1",
        "outputId": "b2905d89-bcf9-4aa2-cf0d-27801fb531dc"
      },
      "execution_count": null,
      "outputs": [
        {
          "output_type": "execute_result",
          "data": {
            "text/plain": [
              "{'Problem': [{'Name': 'unknown', 'Lower bound': 19.0, 'Upper bound': 19.0, 'Number of objectives': 1, 'Number of constraints': 118, 'Number of variables': 285, 'Number of binary variables': 570, 'Number of integer variables': 570, 'Number of nonzeros': 13, 'Sense': 'minimize'}], 'Solver': [{'Status': 'ok', 'User time': -1.0, 'System time': 0.21, 'Wallclock time': 0.32, 'Termination condition': 'optimal', 'Termination message': 'Model was solved to optimality (subject to tolerances), and an optimal solution is available.', 'Statistics': {'Branch and bound': {'Number of bounded subproblems': 0, 'Number of created subproblems': 0}, 'Black box': {'Number of iterations': 0}}, 'Error rc': 0, 'Time': 0.3717536926269531}], 'Solution': [OrderedDict([('number of solutions', 0), ('number of solutions displayed', 0)])]}"
            ]
          },
          "metadata": {},
          "execution_count": 17
        }
      ]
    },
    {
      "cell_type": "code",
      "source": [
        "for i, j, k in itertools.product(model.course_idx, model.year_idx, model.sem_idx):\n",
        "  if pyo.value(model.semesters[(i, j, k)]):\n",
        "    print(\n",
        "        i,\n",
        "        courses[i],\n",
        "        [\"Spring\", \"Summer\", \"Fall\"][k],\n",
        "        2023 + j,\n",
        "        sep=\"\\t\"\n",
        "    )"
      ],
      "metadata": {
        "colab": {
          "base_uri": "https://localhost:8080/"
        },
        "id": "CZq5cjIsLceu",
        "outputId": "9fd0f9ca-e00c-4f22-c2d1-9fde388de560"
      },
      "execution_count": null,
      "outputs": [
        {
          "output_type": "stream",
          "name": "stdout",
          "text": [
            "0\tENGL 1013\tFall\t2023\n",
            "1\tENGL 1033\tFall\t2024\n",
            "2\tMATH 2554\tFall\t2023\n",
            "3\tPHIL 3103\tSpring\t2024\n",
            "4\tECON 2143\tFall\t2024\n",
            "5\tDASC 1001\tFall\t2023\n",
            "6\tDASC 1104\tFall\t2023\n",
            "7\tDASC 1204\tSpring\t2025\n",
            "8\tDASC 2594\tFall\t2025\n",
            "9\tDASC 1222\tSpring\t2025\n",
            "10\tDASC 2103\tSpring\t2026\n",
            "11\tDASC 2113\tFall\t2025\n",
            "12\tDASC 2203\tSpring\t2026\n",
            "13\tDASC 2213\tFall\t2025\n",
            "14\tDASC 3103\tFall\t2026\n",
            "15\tDASC 3203\tSpring\t2026\n",
            "16\tDASC 3213\tSpring\t2026\n",
            "17\tDASC 4892\tFall\t2026\n",
            "18\tDASC 4113\tFall\t2026\n",
            "19\tDASC 4123\tFall\t2026\n",
            "20\tDASC 4993\tSpring\t2027\n",
            "21\tMATH 2564\tFall\t2024\n",
            "22\tSEVI 2053\tSpring\t2024\n",
            "23\tSTAT 3113\tSpring\t2027\n",
            "24\tSTAT 4373\tSpring\t2027\n",
            "25\tSTAT 4013\tFall\t2026\n",
            "26\tSTAT 4333\tSpring\t2027\n",
            "27\tGEOS 1113\tSpring\t2026\n",
            "28\tENTO 1023\tSpring\t2024\n",
            "29\tMLIT 1003\tFall\t2024\n",
            "30\tHIST 2003\tSummer\t2026\n",
            "31\tCOMM 1023\tFall\t2026\n",
            "32\tHIST 2013\tSpring\t2024\n",
            "33\tSTAT 3013\tSpring\t2025\n",
            "34\tSTAT 3003\tSpring\t2025\n",
            "35\tSTAT 4023\tSpring\t2027\n",
            "36\tSTAT 5043\tSummer\t2027\n",
            "37\tSTAT 4033\tFall\t2025\n"
          ]
        }
      ]
    }
  ]
}